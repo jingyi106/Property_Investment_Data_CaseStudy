{
 "cells": [
  {
   "cell_type": "markdown",
   "id": "dbe1a09f",
   "metadata": {},
   "source": [
    "# Geospatial Forecasting Analysis for Property Investment"
   ]
  },
  {
   "cell_type": "markdown",
   "id": "a1ffb3bd",
   "metadata": {},
   "source": [
    "## Author: Jingyi Ran"
   ]
  },
  {
   "cell_type": "markdown",
   "id": "af52be74",
   "metadata": {},
   "source": [
    "## Agenda\n",
    "### 1. Analysis Overview\n",
    "### 2. Summary Statistics of the Dataset\n",
    "### 3. Data Preprocessing\n",
    "####  3.1 Dealing with NaN Values\n",
    "####  3.2 Dealing with Outliers\n",
    "####  3.3 Aggregate the data\n",
    "####  3.4 Other data cleasning work\n",
    "### 4. Exploratory Data Analysis ( Future Work)\n",
    "### 5. ARIMA Forecasting Model\n",
    "### 6. Model Evaluation\n",
    "### 7. Business Suggestion"
   ]
  },
  {
   "cell_type": "code",
   "execution_count": 1,
   "id": "1d4e9ed2",
   "metadata": {
    "collapsed": true
   },
   "outputs": [
    {
     "name": "stderr",
     "output_type": "stream",
     "text": [
      "/Users/jingyiran/opt/anaconda3/envs/yiyi/lib/python3.8/site-packages/statsmodels/tsa/base/tsa_model.py:7: FutureWarning: pandas.Int64Index is deprecated and will be removed from pandas in a future version. Use pandas.Index with the appropriate dtype instead.\n",
      "  from pandas import (to_datetime, Int64Index, DatetimeIndex, Period,\n",
      "/Users/jingyiran/opt/anaconda3/envs/yiyi/lib/python3.8/site-packages/statsmodels/tsa/base/tsa_model.py:7: FutureWarning: pandas.Float64Index is deprecated and will be removed from pandas in a future version. Use pandas.Index with the appropriate dtype instead.\n",
      "  from pandas import (to_datetime, Int64Index, DatetimeIndex, Period,\n"
     ]
    }
   ],
   "source": [
    "import numpy as np\n",
    "import pandas as pd\n",
    "import seaborn as sns\n",
    "import matplotlib.pyplot as plt\n",
    "from statsmodels.tsa.arima.model import ARIMA\n",
    "from sklearn.metrics import mean_absolute_error"
   ]
  },
  {
   "cell_type": "markdown",
   "id": "b20b7a9e",
   "metadata": {},
   "source": [
    "## 1. Analysis Overview"
   ]
  },
  {
   "attachments": {},
   "cell_type": "markdown",
   "id": "d87c635b",
   "metadata": {},
   "source": [
    "For this case study, we will analyze the demographic data categorized by zip codes to target the best areas for property investment. Specifically, we are going to predict the top 10 zip codes for property investment. \n",
    "\n",
    "The approach applies the ARIMA time series forecasting model to forecast the Median Home Value in the next 10 years of each zip code and further calculate the compound annual growth rate (CAGR) in the next ten years. We will pick the top 10 zip codes with the highest CAGR. One important assumption is that we don't consider the impact of pandemic and other issues like financial crisis\n",
    "\n",
    "In addition, we are interested in how geographically close zip codes impact each other. We choose to use Tableau to create map visualization to get insights. \n",
    "\n",
    "Link to visualization: \n",
    "https://jingyi106.github.io/Property_Investment_Data_CaseStudy/Visualization.html"
   ]
  },
  {
   "cell_type": "markdown",
   "id": "535c99f0",
   "metadata": {},
   "source": [
    "## 2. Summary Statistics of the Dataset"
   ]
  },
  {
   "cell_type": "code",
   "execution_count": 2,
   "id": "a506b890",
   "metadata": {},
   "outputs": [],
   "source": [
    "data=pd.read_csv('data_x.csv')"
   ]
  },
  {
   "cell_type": "code",
   "execution_count": 3,
   "id": "64277b5c",
   "metadata": {},
   "outputs": [
    {
     "data": {
      "text/html": [
       "<div>\n",
       "<style scoped>\n",
       "    .dataframe tbody tr th:only-of-type {\n",
       "        vertical-align: middle;\n",
       "    }\n",
       "\n",
       "    .dataframe tbody tr th {\n",
       "        vertical-align: top;\n",
       "    }\n",
       "\n",
       "    .dataframe thead th {\n",
       "        text-align: right;\n",
       "    }\n",
       "</style>\n",
       "<table border=\"1\" class=\"dataframe\">\n",
       "  <thead>\n",
       "    <tr style=\"text-align: right;\">\n",
       "      <th></th>\n",
       "      <th>id</th>\n",
       "      <th>Tract_number</th>\n",
       "      <th>zip_code</th>\n",
       "      <th>Year</th>\n",
       "      <th>state</th>\n",
       "      <th>Unweighted Sample Count of the population</th>\n",
       "      <th>Avg household size of occupied housing units</th>\n",
       "      <th>Total population in occupied housing units</th>\n",
       "      <th>Median Estimated Home Value(owner occupied units)</th>\n",
       "      <th>Total Population</th>\n",
       "      <th>...</th>\n",
       "      <th>Renter households</th>\n",
       "      <th>Housing units with mortgage</th>\n",
       "      <th>Total housing Units</th>\n",
       "      <th>Number of Sales and office workers</th>\n",
       "      <th>Number of people in management business science and arts</th>\n",
       "      <th>Number of service workers</th>\n",
       "      <th>Number of educational and health service workers</th>\n",
       "      <th>Number of artsentertainment and food service workers</th>\n",
       "      <th>Number of finance and real estate workers</th>\n",
       "      <th>Number of tech workers</th>\n",
       "    </tr>\n",
       "  </thead>\n",
       "  <tbody>\n",
       "    <tr>\n",
       "      <th>0</th>\n",
       "      <td>1</td>\n",
       "      <td>1001020100</td>\n",
       "      <td>36067.0</td>\n",
       "      <td>2012</td>\n",
       "      <td>Alabama</td>\n",
       "      <td>195.0</td>\n",
       "      <td>2</td>\n",
       "      <td>1764</td>\n",
       "      <td>121500.0</td>\n",
       "      <td>1812</td>\n",
       "      <td>...</td>\n",
       "      <td>203</td>\n",
       "      <td>357</td>\n",
       "      <td>724</td>\n",
       "      <td>289</td>\n",
       "      <td>242</td>\n",
       "      <td>98</td>\n",
       "      <td>105</td>\n",
       "      <td>55</td>\n",
       "      <td>27</td>\n",
       "      <td>0</td>\n",
       "    </tr>\n",
       "    <tr>\n",
       "      <th>1</th>\n",
       "      <td>2</td>\n",
       "      <td>1001020200</td>\n",
       "      <td>36067.0</td>\n",
       "      <td>2012</td>\n",
       "      <td>Alabama</td>\n",
       "      <td>222.0</td>\n",
       "      <td>2</td>\n",
       "      <td>2074</td>\n",
       "      <td>130500.0</td>\n",
       "      <td>2218</td>\n",
       "      <td>...</td>\n",
       "      <td>722</td>\n",
       "      <td>311</td>\n",
       "      <td>893</td>\n",
       "      <td>180</td>\n",
       "      <td>367</td>\n",
       "      <td>144</td>\n",
       "      <td>220</td>\n",
       "      <td>79</td>\n",
       "      <td>49</td>\n",
       "      <td>0</td>\n",
       "    </tr>\n",
       "    <tr>\n",
       "      <th>2</th>\n",
       "      <td>3</td>\n",
       "      <td>1001020300</td>\n",
       "      <td>36067.0</td>\n",
       "      <td>2012</td>\n",
       "      <td>Alabama</td>\n",
       "      <td>261.0</td>\n",
       "      <td>2</td>\n",
       "      <td>3103</td>\n",
       "      <td>118700.0</td>\n",
       "      <td>3155</td>\n",
       "      <td>...</td>\n",
       "      <td>643</td>\n",
       "      <td>551</td>\n",
       "      <td>1361</td>\n",
       "      <td>334</td>\n",
       "      <td>450</td>\n",
       "      <td>310</td>\n",
       "      <td>217</td>\n",
       "      <td>183</td>\n",
       "      <td>51</td>\n",
       "      <td>29</td>\n",
       "    </tr>\n",
       "    <tr>\n",
       "      <th>3</th>\n",
       "      <td>4</td>\n",
       "      <td>1001020400</td>\n",
       "      <td>36067.0</td>\n",
       "      <td>2012</td>\n",
       "      <td>Alabama</td>\n",
       "      <td>764.0</td>\n",
       "      <td>2</td>\n",
       "      <td>4329</td>\n",
       "      <td>133500.0</td>\n",
       "      <td>4337</td>\n",
       "      <td>...</td>\n",
       "      <td>915</td>\n",
       "      <td>848</td>\n",
       "      <td>1851</td>\n",
       "      <td>547</td>\n",
       "      <td>596</td>\n",
       "      <td>250</td>\n",
       "      <td>325</td>\n",
       "      <td>192</td>\n",
       "      <td>159</td>\n",
       "      <td>38</td>\n",
       "    </tr>\n",
       "    <tr>\n",
       "      <th>4</th>\n",
       "      <td>5</td>\n",
       "      <td>1001020500</td>\n",
       "      <td>36066.0</td>\n",
       "      <td>2012</td>\n",
       "      <td>Alabama</td>\n",
       "      <td>540.0</td>\n",
       "      <td>2</td>\n",
       "      <td>10431</td>\n",
       "      <td>174500.0</td>\n",
       "      <td>10498</td>\n",
       "      <td>...</td>\n",
       "      <td>3499</td>\n",
       "      <td>1815</td>\n",
       "      <td>4114</td>\n",
       "      <td>1409</td>\n",
       "      <td>2304</td>\n",
       "      <td>859</td>\n",
       "      <td>1036</td>\n",
       "      <td>499</td>\n",
       "      <td>323</td>\n",
       "      <td>57</td>\n",
       "    </tr>\n",
       "  </tbody>\n",
       "</table>\n",
       "<p>5 rows × 26 columns</p>\n",
       "</div>"
      ],
      "text/plain": [
       "   id  Tract_number  zip_code  Year    state  \\\n",
       "0   1    1001020100   36067.0  2012  Alabama   \n",
       "1   2    1001020200   36067.0  2012  Alabama   \n",
       "2   3    1001020300   36067.0  2012  Alabama   \n",
       "3   4    1001020400   36067.0  2012  Alabama   \n",
       "4   5    1001020500   36066.0  2012  Alabama   \n",
       "\n",
       "   Unweighted Sample Count of the population  \\\n",
       "0                                      195.0   \n",
       "1                                      222.0   \n",
       "2                                      261.0   \n",
       "3                                      764.0   \n",
       "4                                      540.0   \n",
       "\n",
       "   Avg household size of occupied housing units  \\\n",
       "0                                             2   \n",
       "1                                             2   \n",
       "2                                             2   \n",
       "3                                             2   \n",
       "4                                             2   \n",
       "\n",
       "   Total population in occupied housing units  \\\n",
       "0                                        1764   \n",
       "1                                        2074   \n",
       "2                                        3103   \n",
       "3                                        4329   \n",
       "4                                       10431   \n",
       "\n",
       "   Median Estimated Home Value(owner occupied units)  Total Population  ...  \\\n",
       "0                                           121500.0              1812  ...   \n",
       "1                                           130500.0              2218  ...   \n",
       "2                                           118700.0              3155  ...   \n",
       "3                                           133500.0              4337  ...   \n",
       "4                                           174500.0             10498  ...   \n",
       "\n",
       "   Renter households  Housing units with mortgage  Total housing Units  \\\n",
       "0                203                          357                  724   \n",
       "1                722                          311                  893   \n",
       "2                643                          551                 1361   \n",
       "3                915                          848                 1851   \n",
       "4               3499                         1815                 4114   \n",
       "\n",
       "   Number of Sales and office workers  \\\n",
       "0                                 289   \n",
       "1                                 180   \n",
       "2                                 334   \n",
       "3                                 547   \n",
       "4                                1409   \n",
       "\n",
       "   Number of people in management business science and arts  \\\n",
       "0                                                242          \n",
       "1                                                367          \n",
       "2                                                450          \n",
       "3                                                596          \n",
       "4                                               2304          \n",
       "\n",
       "   Number of service workers  \\\n",
       "0                         98   \n",
       "1                        144   \n",
       "2                        310   \n",
       "3                        250   \n",
       "4                        859   \n",
       "\n",
       "   Number of educational and health service workers  \\\n",
       "0                                               105   \n",
       "1                                               220   \n",
       "2                                               217   \n",
       "3                                               325   \n",
       "4                                              1036   \n",
       "\n",
       "   Number of artsentertainment and food service workers  \\\n",
       "0                                                 55      \n",
       "1                                                 79      \n",
       "2                                                183      \n",
       "3                                                192      \n",
       "4                                                499      \n",
       "\n",
       "   Number of finance and real estate workers  Number of tech workers  \n",
       "0                                         27                       0  \n",
       "1                                         49                       0  \n",
       "2                                         51                      29  \n",
       "3                                        159                      38  \n",
       "4                                        323                      57  \n",
       "\n",
       "[5 rows x 26 columns]"
      ]
     },
     "execution_count": 3,
     "metadata": {},
     "output_type": "execute_result"
    }
   ],
   "source": [
    "data.head()"
   ]
  },
  {
   "cell_type": "code",
   "execution_count": 4,
   "id": "f5e7d84e",
   "metadata": {},
   "outputs": [
    {
     "name": "stdout",
     "output_type": "stream",
     "text": [
      "<class 'pandas.core.frame.DataFrame'>\n",
      "RangeIndex: 511392 entries, 0 to 511391\n",
      "Data columns (total 26 columns):\n",
      " #   Column                                                    Non-Null Count   Dtype  \n",
      "---  ------                                                    --------------   -----  \n",
      " 0   id                                                        511392 non-null  int64  \n",
      " 1   Tract_number                                              511392 non-null  int64  \n",
      " 2   zip_code                                                  508357 non-null  float64\n",
      " 3   Year                                                      511392 non-null  int64  \n",
      " 4   state                                                     511392 non-null  object \n",
      " 5   Unweighted Sample Count of the population                 510464 non-null  float64\n",
      " 6   Avg household size of occupied housing units              511392 non-null  int64  \n",
      " 7   Total population in occupied housing units                511392 non-null  int64  \n",
      " 8   Median Estimated Home Value(owner occupied units)         511047 non-null  float64\n",
      " 9   Total Population                                          511392 non-null  int64  \n",
      " 10  Median Gross rent as % of household inc                   511392 non-null  int64  \n",
      " 11  Median Age                                                511392 non-null  int64  \n",
      " 12  Median Household Income                                   511320 non-null  float64\n",
      " 13  Total Population over 25                                  511392 non-null  int64  \n",
      " 14  Median Gross Rent                                         510923 non-null  float64\n",
      " 15  Homeowner households                                      511392 non-null  int64  \n",
      " 16  Renter households                                         511392 non-null  int64  \n",
      " 17  Housing units with mortgage                               511392 non-null  int64  \n",
      " 18  Total housing Units                                       511392 non-null  int64  \n",
      " 19  Number of Sales and office workers                        511392 non-null  int64  \n",
      " 20  Number of people in management business science and arts  511392 non-null  int64  \n",
      " 21  Number of service workers                                 511392 non-null  int64  \n",
      " 22  Number of educational and health service workers          511392 non-null  int64  \n",
      " 23  Number of artsentertainment and food service workers      511392 non-null  int64  \n",
      " 24  Number of finance and real estate workers                 511392 non-null  int64  \n",
      " 25  Number of tech workers                                    511392 non-null  int64  \n",
      "dtypes: float64(5), int64(20), object(1)\n",
      "memory usage: 101.4+ MB\n"
     ]
    }
   ],
   "source": [
    "data.info()"
   ]
  },
  {
   "cell_type": "code",
   "execution_count": 5,
   "id": "b9fd4210",
   "metadata": {},
   "outputs": [
    {
     "data": {
      "text/html": [
       "<div>\n",
       "<style scoped>\n",
       "    .dataframe tbody tr th:only-of-type {\n",
       "        vertical-align: middle;\n",
       "    }\n",
       "\n",
       "    .dataframe tbody tr th {\n",
       "        vertical-align: top;\n",
       "    }\n",
       "\n",
       "    .dataframe thead th {\n",
       "        text-align: right;\n",
       "    }\n",
       "</style>\n",
       "<table border=\"1\" class=\"dataframe\">\n",
       "  <thead>\n",
       "    <tr style=\"text-align: right;\">\n",
       "      <th></th>\n",
       "      <th>id</th>\n",
       "      <th>Tract_number</th>\n",
       "      <th>zip_code</th>\n",
       "      <th>Year</th>\n",
       "      <th>Unweighted Sample Count of the population</th>\n",
       "      <th>Avg household size of occupied housing units</th>\n",
       "      <th>Total population in occupied housing units</th>\n",
       "      <th>Median Estimated Home Value(owner occupied units)</th>\n",
       "      <th>Total Population</th>\n",
       "      <th>Median Gross rent as % of household inc</th>\n",
       "      <th>...</th>\n",
       "      <th>Renter households</th>\n",
       "      <th>Housing units with mortgage</th>\n",
       "      <th>Total housing Units</th>\n",
       "      <th>Number of Sales and office workers</th>\n",
       "      <th>Number of people in management business science and arts</th>\n",
       "      <th>Number of service workers</th>\n",
       "      <th>Number of educational and health service workers</th>\n",
       "      <th>Number of artsentertainment and food service workers</th>\n",
       "      <th>Number of finance and real estate workers</th>\n",
       "      <th>Number of tech workers</th>\n",
       "    </tr>\n",
       "  </thead>\n",
       "  <tbody>\n",
       "    <tr>\n",
       "      <th>count</th>\n",
       "      <td>511392.000000</td>\n",
       "      <td>5.113920e+05</td>\n",
       "      <td>508357.000000</td>\n",
       "      <td>511392.000000</td>\n",
       "      <td>510464.000000</td>\n",
       "      <td>511392.000000</td>\n",
       "      <td>511392.000000</td>\n",
       "      <td>5.110470e+05</td>\n",
       "      <td>511392.000000</td>\n",
       "      <td>511392.000000</td>\n",
       "      <td>...</td>\n",
       "      <td>511392.000000</td>\n",
       "      <td>511392.000000</td>\n",
       "      <td>511392.000000</td>\n",
       "      <td>511392.000000</td>\n",
       "      <td>511392.000000</td>\n",
       "      <td>511392.000000</td>\n",
       "      <td>511392.000000</td>\n",
       "      <td>511392.000000</td>\n",
       "      <td>511392.000000</td>\n",
       "      <td>511392.000000</td>\n",
       "    </tr>\n",
       "    <tr>\n",
       "      <th>mean</th>\n",
       "      <td>245259.928571</td>\n",
       "      <td>2.782602e+10</td>\n",
       "      <td>50689.436068</td>\n",
       "      <td>2014.857143</td>\n",
       "      <td>355.655135</td>\n",
       "      <td>2.129124</td>\n",
       "      <td>4214.901758</td>\n",
       "      <td>2.252238e+05</td>\n",
       "      <td>4325.183785</td>\n",
       "      <td>30.206405</td>\n",
       "      <td>...</td>\n",
       "      <td>1413.807561</td>\n",
       "      <td>669.422537</td>\n",
       "      <td>1827.629609</td>\n",
       "      <td>473.524826</td>\n",
       "      <td>721.872456</td>\n",
       "      <td>352.438462</td>\n",
       "      <td>448.481026</td>\n",
       "      <td>186.095887</td>\n",
       "      <td>130.312785</td>\n",
       "      <td>41.973993</td>\n",
       "    </tr>\n",
       "    <tr>\n",
       "      <th>std</th>\n",
       "      <td>133687.409974</td>\n",
       "      <td>1.581001e+10</td>\n",
       "      <td>29262.662964</td>\n",
       "      <td>1.807018</td>\n",
       "      <td>187.964759</td>\n",
       "      <td>0.591227</td>\n",
       "      <td>2122.779132</td>\n",
       "      <td>1.970134e+05</td>\n",
       "      <td>2130.207678</td>\n",
       "      <td>9.164117</td>\n",
       "      <td>...</td>\n",
       "      <td>1135.065639</td>\n",
       "      <td>473.430636</td>\n",
       "      <td>866.268775</td>\n",
       "      <td>286.956461</td>\n",
       "      <td>570.382097</td>\n",
       "      <td>221.873957</td>\n",
       "      <td>280.688857</td>\n",
       "      <td>149.297336</td>\n",
       "      <td>124.953420</td>\n",
       "      <td>51.307240</td>\n",
       "    </tr>\n",
       "    <tr>\n",
       "      <th>min</th>\n",
       "      <td>1.000000</td>\n",
       "      <td>1.001020e+09</td>\n",
       "      <td>1001.000000</td>\n",
       "      <td>2012.000000</td>\n",
       "      <td>0.000000</td>\n",
       "      <td>0.000000</td>\n",
       "      <td>0.000000</td>\n",
       "      <td>0.000000e+00</td>\n",
       "      <td>0.000000</td>\n",
       "      <td>0.000000</td>\n",
       "      <td>...</td>\n",
       "      <td>0.000000</td>\n",
       "      <td>0.000000</td>\n",
       "      <td>0.000000</td>\n",
       "      <td>0.000000</td>\n",
       "      <td>0.000000</td>\n",
       "      <td>0.000000</td>\n",
       "      <td>0.000000</td>\n",
       "      <td>0.000000</td>\n",
       "      <td>0.000000</td>\n",
       "      <td>0.000000</td>\n",
       "    </tr>\n",
       "    <tr>\n",
       "      <th>25%</th>\n",
       "      <td>127848.750000</td>\n",
       "      <td>1.212708e+10</td>\n",
       "      <td>27530.000000</td>\n",
       "      <td>2013.000000</td>\n",
       "      <td>254.000000</td>\n",
       "      <td>2.000000</td>\n",
       "      <td>2798.000000</td>\n",
       "      <td>1.030000e+05</td>\n",
       "      <td>2891.000000</td>\n",
       "      <td>25.000000</td>\n",
       "      <td>...</td>\n",
       "      <td>607.000000</td>\n",
       "      <td>339.000000</td>\n",
       "      <td>1256.000000</td>\n",
       "      <td>274.000000</td>\n",
       "      <td>327.000000</td>\n",
       "      <td>200.000000</td>\n",
       "      <td>257.000000</td>\n",
       "      <td>89.000000</td>\n",
       "      <td>49.000000</td>\n",
       "      <td>10.000000</td>\n",
       "    </tr>\n",
       "    <tr>\n",
       "      <th>50%</th>\n",
       "      <td>255696.500000</td>\n",
       "      <td>2.712304e+10</td>\n",
       "      <td>48104.000000</td>\n",
       "      <td>2015.000000</td>\n",
       "      <td>321.000000</td>\n",
       "      <td>2.000000</td>\n",
       "      <td>3959.000000</td>\n",
       "      <td>1.644000e+05</td>\n",
       "      <td>4062.000000</td>\n",
       "      <td>29.000000</td>\n",
       "      <td>...</td>\n",
       "      <td>1124.000000</td>\n",
       "      <td>591.000000</td>\n",
       "      <td>1722.000000</td>\n",
       "      <td>426.000000</td>\n",
       "      <td>580.000000</td>\n",
       "      <td>311.000000</td>\n",
       "      <td>399.000000</td>\n",
       "      <td>152.000000</td>\n",
       "      <td>97.000000</td>\n",
       "      <td>27.000000</td>\n",
       "    </tr>\n",
       "    <tr>\n",
       "      <th>75%</th>\n",
       "      <td>374412.250000</td>\n",
       "      <td>4.103597e+10</td>\n",
       "      <td>77428.000000</td>\n",
       "      <td>2017.000000</td>\n",
       "      <td>406.000000</td>\n",
       "      <td>2.000000</td>\n",
       "      <td>5318.000000</td>\n",
       "      <td>2.810000e+05</td>\n",
       "      <td>5436.000000</td>\n",
       "      <td>35.000000</td>\n",
       "      <td>...</td>\n",
       "      <td>1915.000000</td>\n",
       "      <td>905.000000</td>\n",
       "      <td>2283.000000</td>\n",
       "      <td>617.000000</td>\n",
       "      <td>973.000000</td>\n",
       "      <td>456.000000</td>\n",
       "      <td>582.000000</td>\n",
       "      <td>242.000000</td>\n",
       "      <td>175.000000</td>\n",
       "      <td>57.000000</td>\n",
       "    </tr>\n",
       "    <tr>\n",
       "      <th>max</th>\n",
       "      <td>438336.000000</td>\n",
       "      <td>5.604595e+10</td>\n",
       "      <td>99928.000000</td>\n",
       "      <td>2017.000000</td>\n",
       "      <td>6289.000000</td>\n",
       "      <td>14.000000</td>\n",
       "      <td>65345.000000</td>\n",
       "      <td>2.000001e+06</td>\n",
       "      <td>65528.000000</td>\n",
       "      <td>50.000000</td>\n",
       "      <td>...</td>\n",
       "      <td>22309.000000</td>\n",
       "      <td>12672.000000</td>\n",
       "      <td>26526.000000</td>\n",
       "      <td>6131.000000</td>\n",
       "      <td>18936.000000</td>\n",
       "      <td>4007.000000</td>\n",
       "      <td>9073.000000</td>\n",
       "      <td>5123.000000</td>\n",
       "      <td>2947.000000</td>\n",
       "      <td>1142.000000</td>\n",
       "    </tr>\n",
       "  </tbody>\n",
       "</table>\n",
       "<p>8 rows × 25 columns</p>\n",
       "</div>"
      ],
      "text/plain": [
       "                  id  Tract_number       zip_code           Year  \\\n",
       "count  511392.000000  5.113920e+05  508357.000000  511392.000000   \n",
       "mean   245259.928571  2.782602e+10   50689.436068    2014.857143   \n",
       "std    133687.409974  1.581001e+10   29262.662964       1.807018   \n",
       "min         1.000000  1.001020e+09    1001.000000    2012.000000   \n",
       "25%    127848.750000  1.212708e+10   27530.000000    2013.000000   \n",
       "50%    255696.500000  2.712304e+10   48104.000000    2015.000000   \n",
       "75%    374412.250000  4.103597e+10   77428.000000    2017.000000   \n",
       "max    438336.000000  5.604595e+10   99928.000000    2017.000000   \n",
       "\n",
       "       Unweighted Sample Count of the population  \\\n",
       "count                              510464.000000   \n",
       "mean                                  355.655135   \n",
       "std                                   187.964759   \n",
       "min                                     0.000000   \n",
       "25%                                   254.000000   \n",
       "50%                                   321.000000   \n",
       "75%                                   406.000000   \n",
       "max                                  6289.000000   \n",
       "\n",
       "       Avg household size of occupied housing units  \\\n",
       "count                                 511392.000000   \n",
       "mean                                       2.129124   \n",
       "std                                        0.591227   \n",
       "min                                        0.000000   \n",
       "25%                                        2.000000   \n",
       "50%                                        2.000000   \n",
       "75%                                        2.000000   \n",
       "max                                       14.000000   \n",
       "\n",
       "       Total population in occupied housing units  \\\n",
       "count                               511392.000000   \n",
       "mean                                  4214.901758   \n",
       "std                                   2122.779132   \n",
       "min                                      0.000000   \n",
       "25%                                   2798.000000   \n",
       "50%                                   3959.000000   \n",
       "75%                                   5318.000000   \n",
       "max                                  65345.000000   \n",
       "\n",
       "       Median Estimated Home Value(owner occupied units)  Total Population  \\\n",
       "count                                       5.110470e+05     511392.000000   \n",
       "mean                                        2.252238e+05       4325.183785   \n",
       "std                                         1.970134e+05       2130.207678   \n",
       "min                                         0.000000e+00          0.000000   \n",
       "25%                                         1.030000e+05       2891.000000   \n",
       "50%                                         1.644000e+05       4062.000000   \n",
       "75%                                         2.810000e+05       5436.000000   \n",
       "max                                         2.000001e+06      65528.000000   \n",
       "\n",
       "       Median Gross rent as % of household inc  ...  Renter households  \\\n",
       "count                            511392.000000  ...      511392.000000   \n",
       "mean                                 30.206405  ...        1413.807561   \n",
       "std                                   9.164117  ...        1135.065639   \n",
       "min                                   0.000000  ...           0.000000   \n",
       "25%                                  25.000000  ...         607.000000   \n",
       "50%                                  29.000000  ...        1124.000000   \n",
       "75%                                  35.000000  ...        1915.000000   \n",
       "max                                  50.000000  ...       22309.000000   \n",
       "\n",
       "       Housing units with mortgage  Total housing Units  \\\n",
       "count                511392.000000        511392.000000   \n",
       "mean                    669.422537          1827.629609   \n",
       "std                     473.430636           866.268775   \n",
       "min                       0.000000             0.000000   \n",
       "25%                     339.000000          1256.000000   \n",
       "50%                     591.000000          1722.000000   \n",
       "75%                     905.000000          2283.000000   \n",
       "max                   12672.000000         26526.000000   \n",
       "\n",
       "       Number of Sales and office workers  \\\n",
       "count                       511392.000000   \n",
       "mean                           473.524826   \n",
       "std                            286.956461   \n",
       "min                              0.000000   \n",
       "25%                            274.000000   \n",
       "50%                            426.000000   \n",
       "75%                            617.000000   \n",
       "max                           6131.000000   \n",
       "\n",
       "       Number of people in management business science and arts  \\\n",
       "count                                      511392.000000          \n",
       "mean                                          721.872456          \n",
       "std                                           570.382097          \n",
       "min                                             0.000000          \n",
       "25%                                           327.000000          \n",
       "50%                                           580.000000          \n",
       "75%                                           973.000000          \n",
       "max                                         18936.000000          \n",
       "\n",
       "       Number of service workers  \\\n",
       "count              511392.000000   \n",
       "mean                  352.438462   \n",
       "std                   221.873957   \n",
       "min                     0.000000   \n",
       "25%                   200.000000   \n",
       "50%                   311.000000   \n",
       "75%                   456.000000   \n",
       "max                  4007.000000   \n",
       "\n",
       "       Number of educational and health service workers  \\\n",
       "count                                     511392.000000   \n",
       "mean                                         448.481026   \n",
       "std                                          280.688857   \n",
       "min                                            0.000000   \n",
       "25%                                          257.000000   \n",
       "50%                                          399.000000   \n",
       "75%                                          582.000000   \n",
       "max                                         9073.000000   \n",
       "\n",
       "       Number of artsentertainment and food service workers  \\\n",
       "count                                      511392.000000      \n",
       "mean                                          186.095887      \n",
       "std                                           149.297336      \n",
       "min                                             0.000000      \n",
       "25%                                            89.000000      \n",
       "50%                                           152.000000      \n",
       "75%                                           242.000000      \n",
       "max                                          5123.000000      \n",
       "\n",
       "       Number of finance and real estate workers  Number of tech workers  \n",
       "count                              511392.000000           511392.000000  \n",
       "mean                                  130.312785               41.973993  \n",
       "std                                   124.953420               51.307240  \n",
       "min                                     0.000000                0.000000  \n",
       "25%                                    49.000000               10.000000  \n",
       "50%                                    97.000000               27.000000  \n",
       "75%                                   175.000000               57.000000  \n",
       "max                                  2947.000000             1142.000000  \n",
       "\n",
       "[8 rows x 25 columns]"
      ]
     },
     "execution_count": 5,
     "metadata": {},
     "output_type": "execute_result"
    }
   ],
   "source": [
    "data.describe()"
   ]
  },
  {
   "cell_type": "markdown",
   "id": "08795b27",
   "metadata": {},
   "source": [
    "From the summary statistics results, we found there are approximately 511392 rows and the datasets contains some NaN values and outliers. In addition, since our goal is to forecast the median home value of each zip code in next 10 years, we only need some relevant variables. "
   ]
  },
  {
   "cell_type": "markdown",
   "id": "3d0789ff",
   "metadata": {},
   "source": [
    "## 3. Data Preprocessing"
   ]
  },
  {
   "cell_type": "code",
   "execution_count": 6,
   "id": "9db0d77e",
   "metadata": {},
   "outputs": [],
   "source": [
    "# Select relevant columns: Zip_code, Year, Median Estimated Home Value\n",
    "data_arima=data[['zip_code','Year','Median Estimated Home Value(owner occupied units)']]\n",
    "data_arima=data_arima.rename(columns={'Median Estimated Home Value(owner occupied units)':'Median Home Value'})"
   ]
  },
  {
   "cell_type": "code",
   "execution_count": 7,
   "id": "440331ee",
   "metadata": {},
   "outputs": [
    {
     "data": {
      "text/html": [
       "<div>\n",
       "<style scoped>\n",
       "    .dataframe tbody tr th:only-of-type {\n",
       "        vertical-align: middle;\n",
       "    }\n",
       "\n",
       "    .dataframe tbody tr th {\n",
       "        vertical-align: top;\n",
       "    }\n",
       "\n",
       "    .dataframe thead th {\n",
       "        text-align: right;\n",
       "    }\n",
       "</style>\n",
       "<table border=\"1\" class=\"dataframe\">\n",
       "  <thead>\n",
       "    <tr style=\"text-align: right;\">\n",
       "      <th></th>\n",
       "      <th>zip_code</th>\n",
       "      <th>Year</th>\n",
       "      <th>Median Home Value</th>\n",
       "    </tr>\n",
       "  </thead>\n",
       "  <tbody>\n",
       "    <tr>\n",
       "      <th>0</th>\n",
       "      <td>36067.0</td>\n",
       "      <td>2012</td>\n",
       "      <td>121500.0</td>\n",
       "    </tr>\n",
       "    <tr>\n",
       "      <th>1</th>\n",
       "      <td>36067.0</td>\n",
       "      <td>2012</td>\n",
       "      <td>130500.0</td>\n",
       "    </tr>\n",
       "    <tr>\n",
       "      <th>2</th>\n",
       "      <td>36067.0</td>\n",
       "      <td>2012</td>\n",
       "      <td>118700.0</td>\n",
       "    </tr>\n",
       "    <tr>\n",
       "      <th>3</th>\n",
       "      <td>36067.0</td>\n",
       "      <td>2012</td>\n",
       "      <td>133500.0</td>\n",
       "    </tr>\n",
       "    <tr>\n",
       "      <th>4</th>\n",
       "      <td>36066.0</td>\n",
       "      <td>2012</td>\n",
       "      <td>174500.0</td>\n",
       "    </tr>\n",
       "    <tr>\n",
       "      <th>...</th>\n",
       "      <td>...</td>\n",
       "      <td>...</td>\n",
       "      <td>...</td>\n",
       "    </tr>\n",
       "    <tr>\n",
       "      <th>511387</th>\n",
       "      <td>82414.0</td>\n",
       "      <td>2017</td>\n",
       "      <td>222100.0</td>\n",
       "    </tr>\n",
       "    <tr>\n",
       "      <th>511388</th>\n",
       "      <td>82414.0</td>\n",
       "      <td>2017</td>\n",
       "      <td>228100.0</td>\n",
       "    </tr>\n",
       "    <tr>\n",
       "      <th>511389</th>\n",
       "      <td>82450.0</td>\n",
       "      <td>2017</td>\n",
       "      <td>314900.0</td>\n",
       "    </tr>\n",
       "    <tr>\n",
       "      <th>511390</th>\n",
       "      <td>82941.0</td>\n",
       "      <td>2017</td>\n",
       "      <td>282400.0</td>\n",
       "    </tr>\n",
       "    <tr>\n",
       "      <th>511391</th>\n",
       "      <td>82922.0</td>\n",
       "      <td>2017</td>\n",
       "      <td>225300.0</td>\n",
       "    </tr>\n",
       "  </tbody>\n",
       "</table>\n",
       "<p>511392 rows × 3 columns</p>\n",
       "</div>"
      ],
      "text/plain": [
       "        zip_code  Year  Median Home Value\n",
       "0        36067.0  2012           121500.0\n",
       "1        36067.0  2012           130500.0\n",
       "2        36067.0  2012           118700.0\n",
       "3        36067.0  2012           133500.0\n",
       "4        36066.0  2012           174500.0\n",
       "...          ...   ...                ...\n",
       "511387   82414.0  2017           222100.0\n",
       "511388   82414.0  2017           228100.0\n",
       "511389   82450.0  2017           314900.0\n",
       "511390   82941.0  2017           282400.0\n",
       "511391   82922.0  2017           225300.0\n",
       "\n",
       "[511392 rows x 3 columns]"
      ]
     },
     "execution_count": 7,
     "metadata": {},
     "output_type": "execute_result"
    }
   ],
   "source": [
    "data_arima"
   ]
  },
  {
   "cell_type": "markdown",
   "id": "e5df8fd1",
   "metadata": {},
   "source": [
    "### 3.1 Preprocessing: deal with NaN Values"
   ]
  },
  {
   "cell_type": "markdown",
   "id": "fb504104",
   "metadata": {},
   "source": [
    "Firstly check the percentage of NaN values in each column, and then choose the most proper method to deal with NaN values for each column. \n",
    "For “zip_code” column, since we cannot do any analysis without zip code information, we choose to delete rows with missing zip codes\n",
    "For “Median Home Value”column, we choose to impute the NaN values with median values at the same zip code and in the same year. "
   ]
  },
  {
   "cell_type": "code",
   "execution_count": 8,
   "id": "2c2513a8",
   "metadata": {},
   "outputs": [
    {
     "data": {
      "text/plain": [
       "<matplotlib.axes._subplots.AxesSubplot at 0x7feca10aad00>"
      ]
     },
     "execution_count": 8,
     "metadata": {},
     "output_type": "execute_result"
    },
    {
     "data": {
      "image/png": "[encoded data removed]",
      "text/plain": [
       "<Figure size 720x432 with 2 Axes>"
      ]
     },
     "metadata": {
      "needs_background": "light"
     },
     "output_type": "display_data"
    }
   ],
   "source": [
    "# Check the distribution of the NaN values\n",
    "plt.figure(figsize=(10,6))\n",
    "plt.title('Null Value Overview')\n",
    "sns.heatmap(data_arima.isna().transpose(),\n",
    "            cmap=\"YlGnBu\",\n",
    "            cbar_kws={'label': 'Missing Data'})"
   ]
  },
  {
   "cell_type": "code",
   "execution_count": 9,
   "id": "0322aab1",
   "metadata": {},
   "outputs": [
    {
     "data": {
      "text/plain": [
       "zip_code             3035\n",
       "Year                    0\n",
       "Median Home Value     345\n",
       "dtype: int64"
      ]
     },
     "execution_count": 9,
     "metadata": {},
     "output_type": "execute_result"
    }
   ],
   "source": [
    "# More precisely, check the count of missing values in each column\n",
    "data_arima.isnull().sum()"
   ]
  },
  {
   "cell_type": "markdown",
   "id": "0619dca1",
   "metadata": {},
   "source": [
    "#### Drop the rows where zip_code is  missing"
   ]
  },
  {
   "cell_type": "code",
   "execution_count": 9,
   "id": "b4ec5b6b",
   "metadata": {},
   "outputs": [],
   "source": [
    "data_arima.dropna(subset='zip_code',inplace=True)"
   ]
  },
  {
   "cell_type": "code",
   "execution_count": 10,
   "id": "10d86443",
   "metadata": {},
   "outputs": [
    {
     "data": {
      "text/plain": [
       "zip_code               0\n",
       "Year                   0\n",
       "Median Home Value    344\n",
       "dtype: int64"
      ]
     },
     "execution_count": 10,
     "metadata": {},
     "output_type": "execute_result"
    }
   ],
   "source": [
    "# Check if all \"missin zip_code\" are removed\n",
    "data_arima.isna().sum()"
   ]
  },
  {
   "cell_type": "markdown",
   "id": "e7d0c3fa",
   "metadata": {},
   "source": [
    "#### Impute the missing Home Values using median home value of each zipcode at each year"
   ]
  },
  {
   "cell_type": "code",
   "execution_count": 11,
   "id": "b8dc05a6",
   "metadata": {},
   "outputs": [],
   "source": [
    "data_arima['Median Home Value'].fillna(data_arima.groupby([\"zip_code\",\"Year\"])['Median Home Value'].\n",
    "                                 transform('median'),inplace=True)"
   ]
  },
  {
   "cell_type": "code",
   "execution_count": 12,
   "id": "a3a9247f",
   "metadata": {},
   "outputs": [
    {
     "data": {
      "text/plain": [
       "zip_code              0\n",
       "Year                  0\n",
       "Median Home Value    38\n",
       "dtype: int64"
      ]
     },
     "execution_count": 12,
     "metadata": {},
     "output_type": "execute_result"
    }
   ],
   "source": [
    "# Check if all \"missing Home Values\" are removed\n",
    "data_arima.isna().sum()"
   ]
  },
  {
   "cell_type": "markdown",
   "id": "a3f6b0dc",
   "metadata": {},
   "source": [
    "Interesting! After the imputation, we found there are still some NaN values in the Home Value column, one possible reason is that some zip_codes only appear once so we cannot use the median value to impute the missing value. Since it's only a small proportion (38 out of more than 500 thousand), just delete rows with NaN values"
   ]
  },
  {
   "cell_type": "code",
   "execution_count": 13,
   "id": "c16b1996",
   "metadata": {},
   "outputs": [],
   "source": [
    "data_arima.dropna(subset='Median Home Value',inplace=True)"
   ]
  },
  {
   "cell_type": "code",
   "execution_count": 14,
   "id": "669098ec",
   "metadata": {},
   "outputs": [
    {
     "data": {
      "text/plain": [
       "zip_code             0\n",
       "Year                 0\n",
       "Median Home Value    0\n",
       "dtype: int64"
      ]
     },
     "execution_count": 14,
     "metadata": {},
     "output_type": "execute_result"
    }
   ],
   "source": [
    "# Check if all \"missing Home Values\" are removed\n",
    "data_arima.isna().sum()"
   ]
  },
  {
   "cell_type": "markdown",
   "id": "f7d3dbf3",
   "metadata": {},
   "source": [
    "### 3.2 Preprocessing: Deal with outliers "
   ]
  },
  {
   "cell_type": "code",
   "execution_count": 15,
   "id": "5852d84c",
   "metadata": {},
   "outputs": [
    {
     "data": {
      "text/plain": [
       "(9628, 3)"
      ]
     },
     "execution_count": 15,
     "metadata": {},
     "output_type": "execute_result"
    }
   ],
   "source": [
    "#  Check the shape of dataset after dealing with NaN values\n",
    "data_arima[data_arima['Median Home Value']==0].shape"
   ]
  },
  {
   "cell_type": "code",
   "execution_count": 16,
   "id": "ef53d43b",
   "metadata": {},
   "outputs": [],
   "source": [
    "# Median Home Value cannot be 0, so delete rows whose median home value is 0\n",
    "data_arima=data_arima[data_arima['Median Home Value']!=0]"
   ]
  },
  {
   "cell_type": "markdown",
   "id": "6a7c7430",
   "metadata": {},
   "source": [
    "#### Future work in this part:\n",
    "Becuase of time limit, we only consider the case of \"zero median home values\". For future work, we need to do more work in identifying and dealing with outliers becuase outliers have non-negligible negative impact on the predicting results. Common approaches include visualize data using histgrams and box plots and then dealing with highly skewed distribution, and excluding values outside 3 standard deviation from the mean. "
   ]
  },
  {
   "cell_type": "markdown",
   "id": "b387318f",
   "metadata": {},
   "source": [
    "### 3.3 Preprocessing: Aggregate the data"
   ]
  },
  {
   "cell_type": "markdown",
   "id": "fb5a0f89",
   "metadata": {},
   "source": [
    "#### Purpose:\n",
    "We found there are multiple rows for the same zipcode at the same year, which is pretty strange. Since our goal is to forecast the median home value of each zipcode, we need to aggregate the data. The outcome of aggregating data is one record for each zipcode at each year"
   ]
  },
  {
   "cell_type": "code",
   "execution_count": 17,
   "id": "8f3fcd03",
   "metadata": {
    "collapsed": true
   },
   "outputs": [
    {
     "name": "stderr",
     "output_type": "stream",
     "text": [
      "/var/folders/vg/pr1vdfbs7xj4xh3qmndt97m40000gn/T/ipykernel_26149/2831497679.py:2: SettingWithCopyWarning: \n",
      "A value is trying to be set on a copy of a slice from a DataFrame.\n",
      "Try using .loc[row_indexer,col_indexer] = value instead\n",
      "\n",
      "See the caveats in the documentation: https://pandas.pydata.org/pandas-docs/stable/user_guide/indexing.html#returning-a-view-versus-a-copy\n",
      "  data_arima['zip_code']=data_arima['zip_code'].astype(int)\n",
      "/var/folders/vg/pr1vdfbs7xj4xh3qmndt97m40000gn/T/ipykernel_26149/2831497679.py:4: SettingWithCopyWarning: \n",
      "A value is trying to be set on a copy of a slice from a DataFrame.\n",
      "Try using .loc[row_indexer,col_indexer] = value instead\n",
      "\n",
      "See the caveats in the documentation: https://pandas.pydata.org/pandas-docs/stable/user_guide/indexing.html#returning-a-view-versus-a-copy\n",
      "  data_arima['Year']=pd.to_datetime(data_arima['Year'],format = \"%Y\")\n"
     ]
    }
   ],
   "source": [
    "# Convert zip_code from float to int\n",
    "data_arima['zip_code']=data_arima['zip_code'].astype(int)\n",
    "# Convert the datatype of 'Year' colummn from string to datetime (for time series forecasting purpose)\n",
    "data_arima['Year']=pd.to_datetime(data_arima['Year'],format = \"%Y\")"
   ]
  },
  {
   "cell_type": "code",
   "execution_count": 18,
   "id": "fa52e696",
   "metadata": {},
   "outputs": [],
   "source": [
    "data_arima_agg=pd.DataFrame(data_arima.groupby(['zip_code','Year'])['Median Home Value'].median())"
   ]
  },
  {
   "cell_type": "code",
   "execution_count": 19,
   "id": "4a96ed4e",
   "metadata": {},
   "outputs": [
    {
     "data": {
      "text/html": [
       "<div>\n",
       "<style scoped>\n",
       "    .dataframe tbody tr th:only-of-type {\n",
       "        vertical-align: middle;\n",
       "    }\n",
       "\n",
       "    .dataframe tbody tr th {\n",
       "        vertical-align: top;\n",
       "    }\n",
       "\n",
       "    .dataframe thead th {\n",
       "        text-align: right;\n",
       "    }\n",
       "</style>\n",
       "<table border=\"1\" class=\"dataframe\">\n",
       "  <thead>\n",
       "    <tr style=\"text-align: right;\">\n",
       "      <th></th>\n",
       "      <th></th>\n",
       "      <th>Median Home Value</th>\n",
       "    </tr>\n",
       "    <tr>\n",
       "      <th>zip_code</th>\n",
       "      <th>Year</th>\n",
       "      <th></th>\n",
       "    </tr>\n",
       "  </thead>\n",
       "  <tbody>\n",
       "    <tr>\n",
       "      <th rowspan=\"5\" valign=\"top\">1001</th>\n",
       "      <th>2012-01-01</th>\n",
       "      <td>227900.0</td>\n",
       "    </tr>\n",
       "    <tr>\n",
       "      <th>2013-01-01</th>\n",
       "      <td>227150.0</td>\n",
       "    </tr>\n",
       "    <tr>\n",
       "      <th>2014-01-01</th>\n",
       "      <td>226850.0</td>\n",
       "    </tr>\n",
       "    <tr>\n",
       "      <th>2015-01-01</th>\n",
       "      <td>222800.0</td>\n",
       "    </tr>\n",
       "    <tr>\n",
       "      <th>2016-01-01</th>\n",
       "      <td>222500.0</td>\n",
       "    </tr>\n",
       "    <tr>\n",
       "      <th>...</th>\n",
       "      <th>...</th>\n",
       "      <td>...</td>\n",
       "    </tr>\n",
       "    <tr>\n",
       "      <th rowspan=\"5\" valign=\"top\">99928</th>\n",
       "      <th>2013-01-01</th>\n",
       "      <td>309900.0</td>\n",
       "    </tr>\n",
       "    <tr>\n",
       "      <th>2014-01-01</th>\n",
       "      <td>298600.0</td>\n",
       "    </tr>\n",
       "    <tr>\n",
       "      <th>2015-01-01</th>\n",
       "      <td>288400.0</td>\n",
       "    </tr>\n",
       "    <tr>\n",
       "      <th>2016-01-01</th>\n",
       "      <td>296500.0</td>\n",
       "    </tr>\n",
       "    <tr>\n",
       "      <th>2017-01-01</th>\n",
       "      <td>296600.0</td>\n",
       "    </tr>\n",
       "  </tbody>\n",
       "</table>\n",
       "<p>130629 rows × 1 columns</p>\n",
       "</div>"
      ],
      "text/plain": [
       "                     Median Home Value\n",
       "zip_code Year                         \n",
       "1001     2012-01-01           227900.0\n",
       "         2013-01-01           227150.0\n",
       "         2014-01-01           226850.0\n",
       "         2015-01-01           222800.0\n",
       "         2016-01-01           222500.0\n",
       "...                                ...\n",
       "99928    2013-01-01           309900.0\n",
       "         2014-01-01           298600.0\n",
       "         2015-01-01           288400.0\n",
       "         2016-01-01           296500.0\n",
       "         2017-01-01           296600.0\n",
       "\n",
       "[130629 rows x 1 columns]"
      ]
     },
     "execution_count": 19,
     "metadata": {},
     "output_type": "execute_result"
    }
   ],
   "source": [
    "data_arima_agg"
   ]
  },
  {
   "cell_type": "markdown",
   "id": "fada1bab",
   "metadata": {},
   "source": [
    "###  3.4 Preprocessing: Other Data Cleasening Work"
   ]
  },
  {
   "cell_type": "markdown",
   "id": "adf98a63",
   "metadata": {},
   "source": [
    "#### Exclude zipcodes with missing years\n",
    "In the preprocessing , we found that for some zip codes, there are only one or two years records, in this case, it's hard to do forecasting becuase of not enough datapoints. So, we are going to check how many zipcodes have less than 6 years' data (2012-2017), if it's just a small proportion (less than 1%), delete those data"
   ]
  },
  {
   "cell_type": "code",
   "execution_count": 20,
   "id": "70b8acc5",
   "metadata": {},
   "outputs": [
    {
     "data": {
      "text/plain": [
       "102"
      ]
     },
     "execution_count": 20,
     "metadata": {},
     "output_type": "execute_result"
    }
   ],
   "source": [
    "sum(data_arima_agg.groupby('zip_code').size()!=6)"
   ]
  },
  {
   "cell_type": "code",
   "execution_count": 21,
   "id": "2ca210e2",
   "metadata": {},
   "outputs": [
    {
     "data": {
      "text/plain": [
       "21816"
      ]
     },
     "execution_count": 21,
     "metadata": {},
     "output_type": "execute_result"
    }
   ],
   "source": [
    "data_arima_agg.groupby('zip_code').ngroups"
   ]
  },
  {
   "attachments": {},
   "cell_type": "markdown",
   "id": "2951b0eb",
   "metadata": {},
   "source": [
    "Only 102 out of 21816 zipcodes don't have entire records, so just exclude those zipcodes"
   ]
  },
  {
   "cell_type": "code",
   "execution_count": 22,
   "id": "1c804e66",
   "metadata": {},
   "outputs": [],
   "source": [
    "zip_all_years=data_arima_agg.groupby('zip_code').size()==6\n",
    "zip_all_years=list(zip_all_years.where(zip_all_years==True).dropna().index)\n",
    "data_arima_agg_all_years=data_arima_agg.loc[zip_all_years]"
   ]
  },
  {
   "cell_type": "markdown",
   "id": "4533b312",
   "metadata": {},
   "source": [
    "It's time to check the finalized dataframe for the forecasting model! \n",
    "\n",
    "21714 zipcodes will be the candidates for the top 10 \"Most Potential Areas\"."
   ]
  },
  {
   "cell_type": "code",
   "execution_count": 23,
   "id": "625316ac",
   "metadata": {},
   "outputs": [
    {
     "data": {
      "text/plain": [
       "21714"
      ]
     },
     "execution_count": 23,
     "metadata": {},
     "output_type": "execute_result"
    }
   ],
   "source": [
    "data_arima_agg_all_years.groupby('zip_code').ngroups"
   ]
  },
  {
   "cell_type": "code",
   "execution_count": 24,
   "id": "cf7d529a",
   "metadata": {},
   "outputs": [
    {
     "data": {
      "text/html": [
       "<div>\n",
       "<style scoped>\n",
       "    .dataframe tbody tr th:only-of-type {\n",
       "        vertical-align: middle;\n",
       "    }\n",
       "\n",
       "    .dataframe tbody tr th {\n",
       "        vertical-align: top;\n",
       "    }\n",
       "\n",
       "    .dataframe thead th {\n",
       "        text-align: right;\n",
       "    }\n",
       "</style>\n",
       "<table border=\"1\" class=\"dataframe\">\n",
       "  <thead>\n",
       "    <tr style=\"text-align: right;\">\n",
       "      <th></th>\n",
       "      <th></th>\n",
       "      <th>Median Home Value</th>\n",
       "    </tr>\n",
       "    <tr>\n",
       "      <th>zip_code</th>\n",
       "      <th>Year</th>\n",
       "      <th></th>\n",
       "    </tr>\n",
       "  </thead>\n",
       "  <tbody>\n",
       "    <tr>\n",
       "      <th rowspan=\"5\" valign=\"top\">1001</th>\n",
       "      <th>2012-01-01</th>\n",
       "      <td>227900.0</td>\n",
       "    </tr>\n",
       "    <tr>\n",
       "      <th>2013-01-01</th>\n",
       "      <td>227150.0</td>\n",
       "    </tr>\n",
       "    <tr>\n",
       "      <th>2014-01-01</th>\n",
       "      <td>226850.0</td>\n",
       "    </tr>\n",
       "    <tr>\n",
       "      <th>2015-01-01</th>\n",
       "      <td>222800.0</td>\n",
       "    </tr>\n",
       "    <tr>\n",
       "      <th>2016-01-01</th>\n",
       "      <td>222500.0</td>\n",
       "    </tr>\n",
       "    <tr>\n",
       "      <th>...</th>\n",
       "      <th>...</th>\n",
       "      <td>...</td>\n",
       "    </tr>\n",
       "    <tr>\n",
       "      <th rowspan=\"5\" valign=\"top\">99928</th>\n",
       "      <th>2013-01-01</th>\n",
       "      <td>309900.0</td>\n",
       "    </tr>\n",
       "    <tr>\n",
       "      <th>2014-01-01</th>\n",
       "      <td>298600.0</td>\n",
       "    </tr>\n",
       "    <tr>\n",
       "      <th>2015-01-01</th>\n",
       "      <td>288400.0</td>\n",
       "    </tr>\n",
       "    <tr>\n",
       "      <th>2016-01-01</th>\n",
       "      <td>296500.0</td>\n",
       "    </tr>\n",
       "    <tr>\n",
       "      <th>2017-01-01</th>\n",
       "      <td>296600.0</td>\n",
       "    </tr>\n",
       "  </tbody>\n",
       "</table>\n",
       "<p>130284 rows × 1 columns</p>\n",
       "</div>"
      ],
      "text/plain": [
       "                     Median Home Value\n",
       "zip_code Year                         \n",
       "1001     2012-01-01           227900.0\n",
       "         2013-01-01           227150.0\n",
       "         2014-01-01           226850.0\n",
       "         2015-01-01           222800.0\n",
       "         2016-01-01           222500.0\n",
       "...                                ...\n",
       "99928    2013-01-01           309900.0\n",
       "         2014-01-01           298600.0\n",
       "         2015-01-01           288400.0\n",
       "         2016-01-01           296500.0\n",
       "         2017-01-01           296600.0\n",
       "\n",
       "[130284 rows x 1 columns]"
      ]
     },
     "execution_count": 24,
     "metadata": {},
     "output_type": "execute_result"
    }
   ],
   "source": [
    "data_arima_agg_all_years"
   ]
  },
  {
   "cell_type": "markdown",
   "id": "249850b4",
   "metadata": {},
   "source": [
    "## 4. Exploratory Data Analysis (Future Work)\n"
   ]
  },
  {
   "cell_type": "markdown",
   "id": "5c7244f7",
   "metadata": {},
   "source": [
    "Usually, before modeling, we will do some exploratory data analysis to know the data better. But because of the time limit and considering the EDA doesn't help a lot for building the forecasting model especially we have decided to use ARIMA and we have a clear goal for model building, we choose to make it \"Future Work\".\n",
    "\n",
    "Lots of analysis can be done in the EDA part. For example, we can have map visualization to see in which states or in which regions, the properties have relatively higher value and higher rent prices. In addition, it's also interesting to pick some regions (eg: New York and California) and visualize the trend of housing prices from 2012 to 2017. Also, age is another factor that we could explore, maybe we can make sorted bar plots to compare the age of the population in different regions, from which we can combine the characteristics of different age groups and the property information to find investment opportunities. "
   ]
  },
  {
   "cell_type": "markdown",
   "id": "58409768",
   "metadata": {},
   "source": [
    "##  5. ARIMA Time Series Forecasting"
   ]
  },
  {
   "attachments": {},
   "cell_type": "markdown",
   "id": "76bdeb38",
   "metadata": {},
   "source": [
    "We choose to apply the ARIMA time series forecasting algorithm to forecast the median home value of each zip code in the next 10 years starting from 2018 and further calculate the compound annual growth rate (CAGR)\n",
    "\n",
    "Each zip code has one time series. For a specific zip code, we use the median estimated home value from 2012 to 2017 (6 data points) to predict the median estimated home value from 2018 to 2027 (10 data points). The logic of ARIMA in this scenario is using data from 2012 to 2017 to predict the value in 2018 and using data from 2013 to 2018 to predict the value in 2017, etc. (Autoregressive Integrated Moving Average principle)\n",
    "\n",
    "Finally, we have 21912 time series because we have 21912 different zip codes after data cleansing. \n",
    "\n",
    "After generating the forecasting median home values for the next 10 years, we calculate the CAGR in the next ten years of each zip code and get the top 10 zip codes with the highest CAGR. "
   ]
  },
  {
   "cell_type": "code",
   "execution_count": 31,
   "id": "b817af75",
   "metadata": {},
   "outputs": [],
   "source": [
    "# List \"CAGR_result\" to store the CAGR in next 10 years of each zip code\n",
    "CAGR_result=[]\n",
    "# List \"error\" to store the mean abolute error of each time series\n",
    "error=[]\n",
    "for zipcode, new_df in data_arima_agg_all_years.groupby(level=0):\n",
    "    new_df=new_df.reset_index().drop('zip_code',axis=1).set_index('Year')\n",
    "    series=new_df.squeeze()\n",
    "    series=series.asfreq('YS')\n",
    "    model = ARIMA(series,order=(1,1,0)).fit()\n",
    "    forecast_next_10_years=model.get_forecast(steps=10).predicted_mean\n",
    "    CAGR=(forecast_next_10_years[9]/forecast_next_10_years[0])**(1/10)-1\n",
    "    CAGR_result.append((zipcode,CAGR))\n",
    "        \n",
    "    y_pred=model.get_prediction(-6).predicted_mean\n",
    "    y_true=series.values\n",
    "    mae=mean_absolute_error(y_true, y_pred)\n",
    "    error.append(mae)\n",
    "    \n",
    "\n",
    "#  Calculate the average value of mean absolute error\n",
    "mean_absotue_error=np.mean(error)"
   ]
  },
  {
   "cell_type": "markdown",
   "id": "21dc2d3b",
   "metadata": {},
   "source": [
    "It's time to generate top 10 zip codes! "
   ]
  },
  {
   "cell_type": "code",
   "execution_count": 27,
   "id": "b6de40ea",
   "metadata": {},
   "outputs": [],
   "source": [
    "result_df=pd.DataFrame(CAGR_result,columns=['zip_code','CAGR']).sort_values(by='CAGR',ascending=False)\n",
    "top10_zipcode=result_df.head(10)['zip_code']"
   ]
  },
  {
   "cell_type": "code",
   "execution_count": 28,
   "id": "05e0fe7a",
   "metadata": {},
   "outputs": [
    {
     "data": {
      "text/html": [
       "<div>\n",
       "<style scoped>\n",
       "    .dataframe tbody tr th:only-of-type {\n",
       "        vertical-align: middle;\n",
       "    }\n",
       "\n",
       "    .dataframe tbody tr th {\n",
       "        vertical-align: top;\n",
       "    }\n",
       "\n",
       "    .dataframe thead th {\n",
       "        text-align: right;\n",
       "    }\n",
       "</style>\n",
       "<table border=\"1\" class=\"dataframe\">\n",
       "  <thead>\n",
       "    <tr style=\"text-align: right;\">\n",
       "      <th></th>\n",
       "      <th>zip_code</th>\n",
       "      <th>CAGR</th>\n",
       "    </tr>\n",
       "  </thead>\n",
       "  <tbody>\n",
       "    <tr>\n",
       "      <th>16754</th>\n",
       "      <td>75751</td>\n",
       "      <td>0.088055</td>\n",
       "    </tr>\n",
       "    <tr>\n",
       "      <th>17078</th>\n",
       "      <td>77003</td>\n",
       "      <td>0.020708</td>\n",
       "    </tr>\n",
       "    <tr>\n",
       "      <th>17035</th>\n",
       "      <td>76701</td>\n",
       "      <td>0.016622</td>\n",
       "    </tr>\n",
       "    <tr>\n",
       "      <th>17223</th>\n",
       "      <td>77358</td>\n",
       "      <td>0.011768</td>\n",
       "    </tr>\n",
       "    <tr>\n",
       "      <th>15324</th>\n",
       "      <td>68874</td>\n",
       "      <td>0.011061</td>\n",
       "    </tr>\n",
       "    <tr>\n",
       "      <th>19764</th>\n",
       "      <td>92115</td>\n",
       "      <td>0.008544</td>\n",
       "    </tr>\n",
       "    <tr>\n",
       "      <th>7160</th>\n",
       "      <td>32772</td>\n",
       "      <td>0.006182</td>\n",
       "    </tr>\n",
       "    <tr>\n",
       "      <th>17875</th>\n",
       "      <td>79605</td>\n",
       "      <td>0.005878</td>\n",
       "    </tr>\n",
       "    <tr>\n",
       "      <th>15472</th>\n",
       "      <td>70375</td>\n",
       "      <td>0.005836</td>\n",
       "    </tr>\n",
       "    <tr>\n",
       "      <th>13293</th>\n",
       "      <td>58830</td>\n",
       "      <td>0.004424</td>\n",
       "    </tr>\n",
       "  </tbody>\n",
       "</table>\n",
       "</div>"
      ],
      "text/plain": [
       "       zip_code      CAGR\n",
       "16754     75751  0.088055\n",
       "17078     77003  0.020708\n",
       "17035     76701  0.016622\n",
       "17223     77358  0.011768\n",
       "15324     68874  0.011061\n",
       "19764     92115  0.008544\n",
       "7160      32772  0.006182\n",
       "17875     79605  0.005878\n",
       "15472     70375  0.005836\n",
       "13293     58830  0.004424"
      ]
     },
     "execution_count": 28,
     "metadata": {},
     "output_type": "execute_result"
    }
   ],
   "source": [
    "result_df.head(10)"
   ]
  },
  {
   "cell_type": "code",
   "execution_count": 29,
   "id": "a8e0080d",
   "metadata": {},
   "outputs": [
    {
     "data": {
      "text/html": [
       "<div>\n",
       "<style scoped>\n",
       "    .dataframe tbody tr th:only-of-type {\n",
       "        vertical-align: middle;\n",
       "    }\n",
       "\n",
       "    .dataframe tbody tr th {\n",
       "        vertical-align: top;\n",
       "    }\n",
       "\n",
       "    .dataframe thead th {\n",
       "        text-align: right;\n",
       "    }\n",
       "</style>\n",
       "<table border=\"1\" class=\"dataframe\">\n",
       "  <thead>\n",
       "    <tr style=\"text-align: right;\">\n",
       "      <th></th>\n",
       "      <th>zip_code</th>\n",
       "      <th>state</th>\n",
       "    </tr>\n",
       "  </thead>\n",
       "  <tbody>\n",
       "    <tr>\n",
       "      <th>0</th>\n",
       "      <td>92115.0</td>\n",
       "      <td>California</td>\n",
       "    </tr>\n",
       "    <tr>\n",
       "      <th>1</th>\n",
       "      <td>32772.0</td>\n",
       "      <td>Florida</td>\n",
       "    </tr>\n",
       "    <tr>\n",
       "      <th>2</th>\n",
       "      <td>70375.0</td>\n",
       "      <td>Louisiana</td>\n",
       "    </tr>\n",
       "    <tr>\n",
       "      <th>3</th>\n",
       "      <td>68874.0</td>\n",
       "      <td>Nebraska</td>\n",
       "    </tr>\n",
       "    <tr>\n",
       "      <th>4</th>\n",
       "      <td>58830.0</td>\n",
       "      <td>North Dakota</td>\n",
       "    </tr>\n",
       "    <tr>\n",
       "      <th>5</th>\n",
       "      <td>75751.0</td>\n",
       "      <td>Texas</td>\n",
       "    </tr>\n",
       "    <tr>\n",
       "      <th>6</th>\n",
       "      <td>77003.0</td>\n",
       "      <td>Texas</td>\n",
       "    </tr>\n",
       "    <tr>\n",
       "      <th>7</th>\n",
       "      <td>76701.0</td>\n",
       "      <td>Texas</td>\n",
       "    </tr>\n",
       "    <tr>\n",
       "      <th>8</th>\n",
       "      <td>77358.0</td>\n",
       "      <td>Texas</td>\n",
       "    </tr>\n",
       "    <tr>\n",
       "      <th>9</th>\n",
       "      <td>79605.0</td>\n",
       "      <td>Texas</td>\n",
       "    </tr>\n",
       "  </tbody>\n",
       "</table>\n",
       "</div>"
      ],
      "text/plain": [
       "   zip_code         state\n",
       "0   92115.0    California\n",
       "1   32772.0       Florida\n",
       "2   70375.0     Louisiana\n",
       "3   68874.0      Nebraska\n",
       "4   58830.0  North Dakota\n",
       "5   75751.0         Texas\n",
       "6   77003.0         Texas\n",
       "7   76701.0         Texas\n",
       "8   77358.0         Texas\n",
       "9   79605.0         Texas"
      ]
     },
     "execution_count": 29,
     "metadata": {},
     "output_type": "execute_result"
    }
   ],
   "source": [
    "data.loc[data['zip_code'].isin(list(top10_zipcode))][['zip_code','state']].drop_duplicates().reset_index(drop=True)"
   ]
  },
  {
   "cell_type": "markdown",
   "id": "4eb65205",
   "metadata": {},
   "source": [
    "Our Champion is 75751. We predict its Median Home Value in next 10 years have 8.8% compound annual growth rate (CAGR). "
   ]
  },
  {
   "cell_type": "markdown",
   "id": "e6543194",
   "metadata": {},
   "source": [
    "## 6. Model Evaluation"
   ]
  },
  {
   "cell_type": "markdown",
   "id": "5435d060",
   "metadata": {},
   "source": [
    "### Evaluation Metric: Mean Absolute Error\n",
    "Since time series forecasting is a special type of regression problem, we need to choose metrics for evaluating the regression model, so I choose Mean Absolute Error\n",
    "\n",
    "For this model, the average of the mean absolute error of all time series is 8783, since the average of the 'Median Home Value\" column is 230886, and 8783 is much smaller than the mean value of the target variable, so we can assume the model has a great performance. \n",
    "\n",
    "### Future Work\n",
    "Firstly, we need to tune the hyperparameters of the ARIMA model. In this case study, I just use the default parameters to do the forecasting, which is risky. \n",
    "\n",
    "In addition, the model training and model evaluation should be an iterative process. \n",
    "\n"
   ]
  },
  {
   "cell_type": "code",
   "execution_count": null,
   "id": "31aca16b",
   "metadata": {},
   "outputs": [],
   "source": []
  },
  {
   "cell_type": "markdown",
   "id": "99612edd",
   "metadata": {},
   "source": [
    "## 7. Business Suggestions"
   ]
  },
  {
   "cell_type": "markdown",
   "id": "250548ef",
   "metadata": {},
   "source": [
    "The top 10 zip codes to target is shown below:"
   ]
  },
  {
   "cell_type": "code",
   "execution_count": 30,
   "id": "8f368eae",
   "metadata": {},
   "outputs": [
    {
     "data": {
      "text/html": [
       "<div>\n",
       "<style scoped>\n",
       "    .dataframe tbody tr th:only-of-type {\n",
       "        vertical-align: middle;\n",
       "    }\n",
       "\n",
       "    .dataframe tbody tr th {\n",
       "        vertical-align: top;\n",
       "    }\n",
       "\n",
       "    .dataframe thead th {\n",
       "        text-align: right;\n",
       "    }\n",
       "</style>\n",
       "<table border=\"1\" class=\"dataframe\">\n",
       "  <thead>\n",
       "    <tr style=\"text-align: right;\">\n",
       "      <th></th>\n",
       "      <th>zip_code</th>\n",
       "      <th>state</th>\n",
       "    </tr>\n",
       "  </thead>\n",
       "  <tbody>\n",
       "    <tr>\n",
       "      <th>0</th>\n",
       "      <td>92115.0</td>\n",
       "      <td>California</td>\n",
       "    </tr>\n",
       "    <tr>\n",
       "      <th>1</th>\n",
       "      <td>32772.0</td>\n",
       "      <td>Florida</td>\n",
       "    </tr>\n",
       "    <tr>\n",
       "      <th>2</th>\n",
       "      <td>70375.0</td>\n",
       "      <td>Louisiana</td>\n",
       "    </tr>\n",
       "    <tr>\n",
       "      <th>3</th>\n",
       "      <td>68874.0</td>\n",
       "      <td>Nebraska</td>\n",
       "    </tr>\n",
       "    <tr>\n",
       "      <th>4</th>\n",
       "      <td>58830.0</td>\n",
       "      <td>North Dakota</td>\n",
       "    </tr>\n",
       "    <tr>\n",
       "      <th>5</th>\n",
       "      <td>75751.0</td>\n",
       "      <td>Texas</td>\n",
       "    </tr>\n",
       "    <tr>\n",
       "      <th>6</th>\n",
       "      <td>77003.0</td>\n",
       "      <td>Texas</td>\n",
       "    </tr>\n",
       "    <tr>\n",
       "      <th>7</th>\n",
       "      <td>76701.0</td>\n",
       "      <td>Texas</td>\n",
       "    </tr>\n",
       "    <tr>\n",
       "      <th>8</th>\n",
       "      <td>77358.0</td>\n",
       "      <td>Texas</td>\n",
       "    </tr>\n",
       "    <tr>\n",
       "      <th>9</th>\n",
       "      <td>79605.0</td>\n",
       "      <td>Texas</td>\n",
       "    </tr>\n",
       "  </tbody>\n",
       "</table>\n",
       "</div>"
      ],
      "text/plain": [
       "   zip_code         state\n",
       "0   92115.0    California\n",
       "1   32772.0       Florida\n",
       "2   70375.0     Louisiana\n",
       "3   68874.0      Nebraska\n",
       "4   58830.0  North Dakota\n",
       "5   75751.0         Texas\n",
       "6   77003.0         Texas\n",
       "7   76701.0         Texas\n",
       "8   77358.0         Texas\n",
       "9   79605.0         Texas"
      ]
     },
     "execution_count": 30,
     "metadata": {},
     "output_type": "execute_result"
    }
   ],
   "source": [
    "data.loc[data['zip_code'].isin(list(top10_zipcode))][['zip_code','state']].drop_duplicates().reset_index(drop=True)"
   ]
  },
  {
   "cell_type": "markdown",
   "id": "9c2d501d",
   "metadata": {},
   "source": [
    "In addition, we can see among those 10 zip codes, 5 zip codes are in Texas. Maybe Texas is one of the best states to invest in properties"
   ]
  },
  {
   "cell_type": "markdown",
   "id": "32d41683",
   "metadata": {},
   "source": [
    "## Not the end!"
   ]
  },
  {
   "cell_type": "markdown",
   "id": "e143a049",
   "metadata": {},
   "source": [
    "In addition to the top 10 zip codes, we are also interested in how geographically close zip codes impact each other.\n",
    "\n",
    "Since we found Texas might be one of the best states to invest in properties, we created some visualizations in Tableau to see if there are any clusters to show the similarities.\n",
    "\n",
    "Link to the visualization: https://jingyi106.github.io/Property_Investment_Data_CaseStudy/Visualization.html"
   ]
  },
  {
   "cell_type": "code",
   "execution_count": null,
   "id": "d50bb8e0",
   "metadata": {},
   "outputs": [],
   "source": []
  },
  {
   "cell_type": "code",
   "execution_count": null,
   "id": "88f4c675",
   "metadata": {},
   "outputs": [],
   "source": []
  }
 ],
 "metadata": {
  "kernelspec": {
   "display_name": "Python [conda env:yiyi] *",
   "language": "python",
   "name": "conda-env-yiyi-py"
  },
  "language_info": {
   "codemirror_mode": {
    "name": "ipython",
    "version": 3
   },
   "file_extension": ".py",
   "mimetype": "text/x-python",
   "name": "python",
   "nbconvert_exporter": "python",
   "pygments_lexer": "ipython3",
   "version": "3.8.11"
  }
 },
 "nbformat": 4,
 "nbformat_minor": 5
}
